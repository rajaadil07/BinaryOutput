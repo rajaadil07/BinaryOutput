{
 "cells": [
  {
   "cell_type": "code",
   "execution_count": null,
   "metadata": {},
   "outputs": [],
   "source": [
    "print(bin(262))\n",
    "x = input(\"Number: \")\n",
    "x = int(x)\n",
    "print(f\"The binary number of {int(x)} is {bin(x).strip('0b')}.\")\n",
    "y = str(bin(x))\n",
    "print(f\"Ones: {y.count('1')} \\nZeros: {y.count('0')}\")"
   ]
  }
 ],
 "metadata": {
  "kernelspec": {
   "display_name": "Python 3",
   "language": "python",
   "name": "python3"
  },
  "language_info": {
   "codemirror_mode": {
    "name": "ipython",
    "version": 3
   },
   "file_extension": ".py",
   "mimetype": "text/x-python",
   "name": "python",
   "nbconvert_exporter": "python",
   "pygments_lexer": "ipython3",
   "version": "3.7.6"
  }
 },
 "nbformat": 4,
 "nbformat_minor": 4
}
